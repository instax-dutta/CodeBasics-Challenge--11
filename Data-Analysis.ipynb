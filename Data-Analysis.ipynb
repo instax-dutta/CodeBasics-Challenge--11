{
 "cells": [
  {
   "cell_type": "markdown",
   "metadata": {},
   "source": [
    "# Challenge #11: Provide insights from Lok Sabha elections data to a media company"
   ]
  },
  {
   "cell_type": "markdown",
   "metadata": {},
   "source": [
    "AtliQ Media is a private media company and they wanted to telecast a show on Lok Sabha elections 2024 in India. Unlike other channels they do not want to have a debate on who is going to win this election, they rather wanted to present insights from 2014 and 2019 elections without any bias and discuss less explored themes like voter turnout percentage in India.  Peter is a data analyst in the company, and he is handed over this task of generating meaningful insights from data. Since this is a sensitive topic, he seeked help from his manager Tony Sharma who provided the list of primary and secondary questions.\n",
    "\n",
    "Task: \n",
    "\n",
    "Imagine yourself as Peter Pandey and perform the following tasks. \n",
    "\n",
    "Begin your analysis by referring to the ‘primary_and_secondary_questions.pdf’. You can use any tool of your choice (Python, SQL, PowerBI, Tableau, Excel, PowerPoint) to analyze and answer these questions. More instructions are provided in this document. \n",
    "You can use additional data based on your own research to support your recommendations and provide more insights. \n",
    "Be creative with your presentation, audio/video presentation will have more weightage. You will be presenting these insights to the chief editor Bruce Haryali – he appreciates good storytelling and concise presentation. \n"
   ]
  },
  {
   "cell_type": "code",
   "execution_count": 14,
   "metadata": {},
   "outputs": [],
   "source": [
    "import pandas as pd\n",
    "\n",
    "# Load datasets\n",
    "results_2014 = pd.read_csv(\"constituency_wise_results_2014.csv\")\n",
    "results_2019 = pd.read_csv(\"constituency_wise_results_2019.csv\")\n",
    "state_codes = pd.read_csv(\"dim_states_codes.csv\")\n",
    "\n",
    "# Merge state codes to results datasets\n",
    "results_2014 = pd.merge(results_2014, state_codes, left_on='state', right_on='state_name', how='left')\n",
    "results_2019 = pd.merge(results_2019, state_codes, left_on='state', right_on='state_name', how='left')"
   ]
  },
  {
   "cell_type": "code",
   "execution_count": 15,
   "metadata": {},
   "outputs": [],
   "source": [
    "# Open or create a new file named \"Answers.txt\" in write mode\n",
    "with open(\"Answers.txt\", \"w\") as f:\n",
    "    # Question 1: List top 5/bottom 5 constituencies of 2014 and 2019 in terms of voter turnout ratio\n",
    "    results_2014['Turnout_Ratio_2014'] = results_2014['total_votes'] / results_2014['total_electors']\n",
    "    results_2019['Turnout_Ratio_2019'] = results_2019['total_votes'] / results_2019['total_electors']\n",
    "\n",
    "    top_bottom_turnout_2014 = pd.concat([results_2014.sort_values(by='Turnout_Ratio_2014', ascending=False).head(),\n",
    "                                         results_2014.sort_values(by='Turnout_Ratio_2014').head()])\n",
    "    top_bottom_turnout_2019 = pd.concat([results_2019.sort_values(by='Turnout_Ratio_2019', ascending=False).head(),\n",
    "                                         results_2019.sort_values(by='Turnout_Ratio_2019').head()])\n",
    "\n",
    "    f.write(\"Question 1: List top 5/bottom 5 constituencies of 2014 and 2019 in terms of voter turnout ratio\\n\\n\")\n",
    "    f.write(\"Top 5 constituencies with highest voter turnout ratio in 2014:\\n\")\n",
    "    f.write(str(top_bottom_turnout_2014.head()) + \"\\n\\n\")\n",
    "    f.write(\"Bottom 5 constituencies with lowest voter turnout ratio in 2014:\\n\")\n",
    "    f.write(str(top_bottom_turnout_2014.tail()) + \"\\n\\n\")\n",
    "    f.write(\"Top 5 constituencies with highest voter turnout ratio in 2019:\\n\")\n",
    "    f.write(str(top_bottom_turnout_2019.head()) + \"\\n\\n\")\n",
    "    f.write(\"Bottom 5 constituencies with lowest voter turnout ratio in 2019:\\n\")\n",
    "    f.write(str(top_bottom_turnout_2019.tail()) + \"\\n\\n\")"
   ]
  },
  {
   "cell_type": "code",
   "execution_count": 17,
   "metadata": {},
   "outputs": [
    {
     "ename": "IndentationError",
     "evalue": "unexpected indent (3107884470.py, line 2)",
     "output_type": "error",
     "traceback": [
      "\u001b[1;36m  Cell \u001b[1;32mIn[17], line 2\u001b[1;36m\u001b[0m\n\u001b[1;33m    state_turnout_2014 = results_2014.groupby('abbreviation')['Turnout_Ratio_2014'].mean().sort_values(ascending=False).head()\u001b[0m\n\u001b[1;37m    ^\u001b[0m\n\u001b[1;31mIndentationError\u001b[0m\u001b[1;31m:\u001b[0m unexpected indent\n"
     ]
    }
   ],
   "source": [
    " # Question 2: List top 5/bottom 5 states of 2014 and 2019 in terms of voter turnout ratio\n",
    "    state_turnout_2014 = results_2014.groupby('abbreviation')['Turnout_Ratio_2014'].mean().sort_values(ascending=False).head()\n",
    "    state_turnout_2019 = results_2019.groupby('abbreviation')['Turnout_Ratio_2019'].mean().sort_values(ascending=False).head()\n",
    "\n",
    "    f.write(\"Question 2: List top 5/bottom 5 states of 2014 and 2019 in terms of voter turnout ratio\\n\\n\")\n",
    "    f.write(\"Top 5 states with highest voter turnout ratio in 2014:\\n\")\n",
    "    f.write(str(state_turnout_2014.head()) + \"\\n\\n\")\n",
    "    f.write(\"Bottom 5 states with lowest voter turnout ratio in 2014:\\n\")\n",
    "    f.write(str(state_turnout_2014.tail()) + \"\\n\\n\")\n",
    "    f.write(\"Top 5 states with highest voter turnout ratio in 2019:\\n\")\n",
    "    f.write(str(state_turnout_2019.head()) + \"\\n\\n\")\n",
    "    f.write(\"Bottom 5 states with lowest voter turnout ratio in 2019:\\n\")\n",
    "    f.write(str(state_turnout_2019.tail()) + \"\\n\\n\")\n"
   ]
  }
 ],
 "metadata": {
  "kernelspec": {
   "display_name": "Python 3",
   "language": "python",
   "name": "python3"
  },
  "language_info": {
   "codemirror_mode": {
    "name": "ipython",
    "version": 3
   },
   "file_extension": ".py",
   "mimetype": "text/x-python",
   "name": "python",
   "nbconvert_exporter": "python",
   "pygments_lexer": "ipython3",
   "version": "3.11.4"
  }
 },
 "nbformat": 4,
 "nbformat_minor": 2
}
